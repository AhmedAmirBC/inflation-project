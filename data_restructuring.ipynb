{
 "cells": [
  {
   "cell_type": "markdown",
   "metadata": {},
   "source": [
    "Restructuring Data\n",
    "---------------------------------------------------\n",
    "____________________________________________________\n"
   ]
  },
  {
   "cell_type": "code",
   "execution_count": 2,
   "metadata": {},
   "outputs": [],
   "source": [
    "import matplotlib.pyplot as plt\n",
    "import pickle"
   ]
  },
  {
   "cell_type": "code",
   "execution_count": 4,
   "metadata": {},
   "outputs": [
    {
     "name": "stdout",
     "output_type": "stream",
     "text": [
      "{1973: 6.16, 1974: 11.03, 1975: 9.19, 1976: 5.76, 1977: 6.5, 1978: 7.62, 1979: 11.22, 1980: 13.58, 1981: 10.35, 1982: 6.16, 1983: 3.22, 1984: 4.3, 1985: 3.55, 1986: 1.91, 1987: 3.66, 1988: 4.08, 1989: 4.83, 1990: 5.39, 1991: 4.25, 1992: 3.03, 1993: 2.95, 1994: 2.61, 1995: 2.81, 1996: 2.93, 1997: 2.34, 1998: 1.55, 1999: 2.19, 2000: 3.38, 2001: 2.83, 2002: 1.59, 2003: 2.27, 2004: 2.68, 2005: 3.39, 2006: 3.24, 2007: 2.85, 2008: 3.85, 2009: -0.34, 2010: 1.64, 2011: 3.16, 2012: 2.07, 2013: 1.47, 2014: 1.62, 2015: 0.12, 2016: 1.26, 2017: 2.13, 2018: 2.44}\n"
     ]
    }
   ],
   "source": [
    "with open(\"inflation_data.pickle\", \"rb\") as handle:\n",
    "    data = pickle.load(handle)\n",
    "print(data[\"United States\"])"
   ]
  },
  {
   "cell_type": "code",
   "execution_count": 5,
   "metadata": {},
   "outputs": [],
   "source": [
    "def create_time_series(rates):\n",
    "    \"\"\"\n",
    "    Creates a time series of inflation rates every year\n",
    "        inputs: \n",
    "            - rates: dict with key-value pairs of \"year\"-\"annual CPI Inflation\". Expects that years recorded are consecutive.\n",
    "        returns:\n",
    "            - years: x-axis of a possible inflation plot\n",
    "            - rates: y-axis of a possible inflation plot\n",
    "    \n",
    "    Possible bug: Incomplete inputs may result in some years not being a key in the dictionary. \n",
    "    \"\"\"\n",
    "    start = min(rates.keys())\n",
    "    end = max(rates.keys())\n",
    "    \n",
    "    years = [i for i in range(start, end + 1)]\n",
    "    dates = [rates[i] for i in years]\n",
    "    return years, dates"
   ]
  },
  {
   "cell_type": "code",
   "execution_count": 6,
   "metadata": {},
   "outputs": [
    {
     "name": "stdout",
     "output_type": "stream",
     "text": [
      "([1973, 1974, 1975, 1976, 1977, 1978, 1979, 1980, 1981, 1982, 1983, 1984, 1985, 1986, 1987, 1988, 1989, 1990, 1991, 1992, 1993, 1994, 1995, 1996, 1997, 1998, 1999, 2000, 2001, 2002, 2003, 2004, 2005, 2006, 2007, 2008, 2009, 2010, 2011, 2012, 2013, 2014, 2015, 2016, 2017, 2018], [6.16, 11.03, 9.19, 5.76, 6.5, 7.62, 11.22, 13.58, 10.35, 6.16, 3.22, 4.3, 3.55, 1.91, 3.66, 4.08, 4.83, 5.39, 4.25, 3.03, 2.95, 2.61, 2.81, 2.93, 2.34, 1.55, 2.19, 3.38, 2.83, 1.59, 2.27, 2.68, 3.39, 3.24, 2.85, 3.85, -0.34, 1.64, 3.16, 2.07, 1.47, 1.62, 0.12, 1.26, 2.13, 2.44])\n"
     ]
    }
   ],
   "source": [
    "countries = data.keys()\n",
    "\n",
    "# data restructured for convenient plotting\n",
    "restructured_data = dict({})\n",
    "for country in countries:\n",
    "    restructured_data[country] = create_time_series(data[country])\n",
    "\n",
    "print(restructured_data[\"United States\"])"
   ]
  },
  {
   "cell_type": "code",
   "execution_count": 8,
   "metadata": {},
   "outputs": [],
   "source": [
    "def plot(country):\n",
    "    \"\"\"\n",
    "    Unpacks data into rates and years. Plots it.\n",
    "    \n",
    "    Possible extensions:\n",
    "        - Support for plotting multiple countries.\n",
    "    \"\"\"\n",
    "    rates, years = country\n",
    "    plt.plot(rates, years)"
   ]
  },
  {
   "cell_type": "code",
   "execution_count": 9,
   "metadata": {},
   "outputs": [
    {
     "data": {
      "image/png": "[encoded data removed]",
      "text/plain": [
       "<Figure size 432x288 with 1 Axes>"
      ]
     },
     "metadata": {
      "needs_background": "light"
     },
     "output_type": "display_data"
    }
   ],
   "source": [
    "plot(restructured_data[\"United States\"])"
   ]
  },
  {
   "cell_type": "code",
   "execution_count": null,
   "metadata": {},
   "outputs": [],
   "source": []
  }
 ],
 "metadata": {
  "kernelspec": {
   "display_name": "Python 3",
   "language": "python",
   "name": "python3"
  },
  "language_info": {
   "codemirror_mode": {
    "name": "ipython",
    "version": 3
   },
   "file_extension": ".py",
   "mimetype": "text/x-python",
   "name": "python",
   "nbconvert_exporter": "python",
   "pygments_lexer": "ipython3",
   "version": "3.7.0"
  }
 },
 "nbformat": 4,
 "nbformat_minor": 2
}
